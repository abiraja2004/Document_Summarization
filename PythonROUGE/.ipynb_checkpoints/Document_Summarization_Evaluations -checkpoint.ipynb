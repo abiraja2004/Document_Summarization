{
 "cells": [
  {
   "cell_type": "code",
   "execution_count": 3,
   "metadata": {
    "collapsed": true
   },
   "outputs": [],
   "source": [
    "import PythonROUGE\n",
    "import matplotlib.pyplot as plt "
   ]
  },
  {
   "cell_type": "code",
   "execution_count": 4,
   "metadata": {
    "collapsed": true
   },
   "outputs": [],
   "source": [
    "abstract_summary_list = [['Abstracts/12585968_abstract.txt'],\n",
    "\t\t['Abstracts/15836427_abstract.txt'] , \n",
    "\t\t['Abstracts/16110338_abstract.txt','Abstracts/16110338_abstract_2.txt'],\n",
    "\t\t['Abstracts/16121255_abstract.txt','Abstracts/16121255_abstract_2.txt'], \n",
    "\t\t['Abstracts/15314659_abstract.txt','Abstracts/15314659_abstract_2.txt'],\n",
    "\t\t['Abstracts/15676071_abstract.txt'],\n",
    "\t\t['Abstracts/17194222_abstract.txt','Abstracts/17194222_abstract_2.txt']]"
   ]
  },
  {
   "cell_type": "code",
   "execution_count": 5,
   "metadata": {
    "collapsed": true
   },
   "outputs": [],
   "source": [
    "summary_list = ['Summaries/12585968_summary_10.txt',\n",
    "\t\t'Summaries/15836427_summary_10.txt',\n",
    "\t\t'Summaries/16110338_summary_10.txt',\n",
    "\t\t'Summaries/16121255_summary_10.txt',\n",
    "\t\t'Summaries/15314659_summary_10.txt',\n",
    "\t\t'Summaries/15676071_summary_10.txt',\n",
    "\t\t'Summaries/17194222_summary_10.txt']\n"
   ]
  },
  {
   "cell_type": "code",
   "execution_count": 7,
   "metadata": {
    "collapsed": false
   },
   "outputs": [],
   "source": [
    "\n",
    "recall,precision,F_measure = PythonROUGE.PythonROUGE(summary_list,abstract_summary_list,ngram_order=2)"
   ]
  },
  {
   "cell_type": "code",
   "execution_count": 8,
   "metadata": {
    "collapsed": true
   },
   "outputs": [],
   "source": [
    "average_10s = [recall,precision,F_measure]"
   ]
  },
  {
   "cell_type": "code",
   "execution_count": 9,
   "metadata": {
    "collapsed": false
   },
   "outputs": [
    {
     "name": "stdout",
     "output_type": "stream",
     "text": [
      "[[0.27968, 0.06709], [0.3496, 0.09082], [0.2957, 0.07437]]\n"
     ]
    }
   ],
   "source": [
    "print average_10s "
   ]
  },
  {
   "cell_type": "code",
   "execution_count": 10,
   "metadata": {
    "collapsed": true
   },
   "outputs": [],
   "source": [
    "summary_list = ['Summaries/12585968_summary_0.05.txt',\n",
    "\t\t'Summaries/15836427_summary_0.05.txt',\n",
    "\t\t'Summaries/16110338_summary_0.05.txt',\n",
    "\t\t'Summaries/16121255_summary_0.05.txt',\n",
    "\t\t'Summaries/15314659_summary_0.05.txt',\n",
    "\t\t'Summaries/15676071_summary_0.05.txt',\n",
    "\t\t'Summaries/17194222_summary_0.05.txt']"
   ]
  },
  {
   "cell_type": "code",
   "execution_count": 11,
   "metadata": {
    "collapsed": true
   },
   "outputs": [],
   "source": [
    "recall,precision,F_measure = PythonROUGE.PythonROUGE(summary_list,abstract_summary_list,ngram_order=2) "
   ]
  },
  {
   "cell_type": "code",
   "execution_count": 12,
   "metadata": {
    "collapsed": true
   },
   "outputs": [],
   "source": [
    "average_5p = [recall,precision,F_measure] "
   ]
  },
  {
   "cell_type": "code",
   "execution_count": 13,
   "metadata": {
    "collapsed": false
   },
   "outputs": [
    {
     "name": "stdout",
     "output_type": "stream",
     "text": [
      "average for 5% :\t[[0.42379, 0.12234], [0.20108, 0.06114], [0.26006, 0.07815]]\n"
     ]
    }
   ],
   "source": [
    "print \"average for 5% :\\t\" ,average_5p"
   ]
  },
  {
   "cell_type": "code",
   "execution_count": 14,
   "metadata": {
    "collapsed": true
   },
   "outputs": [],
   "source": [
    "summary_list = ['Summaries/12585968_summary_0.1.txt',\n",
    "\t\t'Summaries/15836427_summary_0.1.txt',\n",
    "\t\t'Summaries/16110338_summary_0.1.txt',\n",
    "\t\t'Summaries/16121255_summary_0.1.txt',\n",
    "\t\t'Summaries/15314659_summary_0.1.txt',\n",
    "\t\t'Summaries/15676071_summary_0.1.txt',\n",
    "\t\t'Summaries/17194222_summary_0.1.txt']"
   ]
  },
  {
   "cell_type": "code",
   "execution_count": 15,
   "metadata": {
    "collapsed": true
   },
   "outputs": [],
   "source": [
    "recall,precision,F_measure = PythonROUGE.PythonROUGE(summary_list,abstract_summary_list,ngram_order=2)"
   ]
  },
  {
   "cell_type": "code",
   "execution_count": 16,
   "metadata": {
    "collapsed": true
   },
   "outputs": [],
   "source": [
    "\n",
    "average_10p = [recall,precision,F_measure]\n"
   ]
  },
  {
   "cell_type": "code",
   "execution_count": 17,
   "metadata": {
    "collapsed": false
   },
   "outputs": [
    {
     "name": "stdout",
     "output_type": "stream",
     "text": [
      "average for 10% :\t[[0.55382, 0.21674], [0.10628, 0.04209], [0.17347, 0.06872]]\n"
     ]
    }
   ],
   "source": [
    "print \"average for 10% :\\t\" ,average_10p"
   ]
  },
  {
   "cell_type": "code",
   "execution_count": 18,
   "metadata": {
    "collapsed": true
   },
   "outputs": [],
   "source": [
    "summary_list = ['Summaries/12585968_summary_0.15.txt',\n",
    "\t\t'Summaries/15836427_summary_0.15.txt',\n",
    "\t\t'Summaries/16110338_summary_0.15.txt',\n",
    "\t\t'Summaries/16121255_summary_0.15.txt',\n",
    "\t\t'Summaries/15314659_summary_0.15.txt',\n",
    "\t\t'Summaries/15676071_summary_0.15.txt',\n",
    "\t\t'Summaries/17194222_summary_0.15.txt']"
   ]
  },
  {
   "cell_type": "code",
   "execution_count": 19,
   "metadata": {
    "collapsed": true
   },
   "outputs": [],
   "source": [
    "recall,precision,F_measure = PythonROUGE.PythonROUGE(summary_list,abstract_summary_list,ngram_order=2)\n"
   ]
  },
  {
   "cell_type": "code",
   "execution_count": 20,
   "metadata": {
    "collapsed": true
   },
   "outputs": [],
   "source": [
    "\n",
    "average_15p = [recall,precision,F_measure]"
   ]
  },
  {
   "cell_type": "code",
   "execution_count": 21,
   "metadata": {
    "collapsed": false
   },
   "outputs": [
    {
     "name": "stdout",
     "output_type": "stream",
     "text": [
      "average for 15% :\t[[0.62776, 0.2883], [0.06282, 0.03018], [0.11241, 0.05384]]\n"
     ]
    }
   ],
   "source": [
    "print \"average for 15% :\\t\" , average_15p\n"
   ]
  },
  {
   "cell_type": "code",
   "execution_count": 22,
   "metadata": {
    "collapsed": true
   },
   "outputs": [],
   "source": [
    "summary_list = ['Summaries/12585968_summary_0.2.txt',\n",
    "\t\t'Summaries/15836427_summary_0.2.txt',\n",
    "\t\t'Summaries/16110338_summary_0.2.txt',\n",
    "\t\t'Summaries/16121255_summary_0.2.txt',\n",
    "\t\t'Summaries/15314659_summary_0.2.txt',\n",
    "\t\t'Summaries/15676071_summary_0.2.txt',\n",
    "\t\t'Summaries/17194222_summary_0.2.txt']"
   ]
  },
  {
   "cell_type": "code",
   "execution_count": 23,
   "metadata": {
    "collapsed": true
   },
   "outputs": [],
   "source": [
    "recall,precision,F_measure = PythonROUGE.PythonROUGE(summary_list,abstract_summary_list,ngram_order=2)\n"
   ]
  },
  {
   "cell_type": "code",
   "execution_count": 24,
   "metadata": {
    "collapsed": true
   },
   "outputs": [],
   "source": [
    "average_20p = [recall,precision,F_measure]\n"
   ]
  },
  {
   "cell_type": "code",
   "execution_count": 25,
   "metadata": {
    "collapsed": false
   },
   "outputs": [
    {
     "name": "stdout",
     "output_type": "stream",
     "text": [
      "average for 20% :\t[[0.67653, 0.35656], [0.04036, 0.02144], [0.07544, 0.04007]]\n"
     ]
    }
   ],
   "source": [
    "\n",
    "print \"average for 20% :\\t\" , average_20p"
   ]
  },
  {
   "cell_type": "code",
   "execution_count": 26,
   "metadata": {
    "collapsed": false
   },
   "outputs": [
    {
     "name": "stdout",
     "output_type": "stream",
     "text": [
      "recall averages bigrams :\t[0.12234, 0.21674, 0.2883, 0.35656]\n"
     ]
    }
   ],
   "source": [
    "to_plot_recall_bigrams = [] \n",
    "to_plot_recall_bigrams.append(average_5p[0][1]) \n",
    "to_plot_recall_bigrams.append(average_10p[0][1]) \n",
    "to_plot_recall_bigrams.append(average_15p[0][1]) \n",
    "to_plot_recall_bigrams.append(average_20p[0][1]) \n",
    "\n",
    "print \"recall averages bigrams :\\t\" , to_plot_recall_bigrams "
   ]
  },
  {
   "cell_type": "code",
   "execution_count": 27,
   "metadata": {
    "collapsed": false
   },
   "outputs": [
    {
     "name": "stdout",
     "output_type": "stream",
     "text": [
      "precision averages bigrams :\t[0.06114, 0.04209, 0.03018, 0.02144]\n"
     ]
    }
   ],
   "source": [
    "to_plot_precision_bigrams = [] \n",
    "to_plot_precision_bigrams.append(average_5p[1][1]) \n",
    "to_plot_precision_bigrams.append(average_10p[1][1]) \n",
    "to_plot_precision_bigrams.append(average_15p[1][1]) \n",
    "to_plot_precision_bigrams.append(average_20p[1][1]) \n",
    "\n",
    "\n",
    "print \"precision averages bigrams :\\t\" ,to_plot_precision_bigrams"
   ]
  },
  {
   "cell_type": "code",
   "execution_count": 28,
   "metadata": {
    "collapsed": false
   },
   "outputs": [
    {
     "name": "stdout",
     "output_type": "stream",
     "text": [
      "f-measure averages bigrams :\t[0.07815, 0.06872, 0.05384, 0.04007]\n"
     ]
    }
   ],
   "source": [
    "to_plot_f_bigrams = [] \n",
    "to_plot_f_bigrams.append(average_5p[2][1]) \n",
    "to_plot_f_bigrams.append(average_10p[2][1]) \n",
    "to_plot_f_bigrams.append(average_15p[2][1]) \n",
    "to_plot_f_bigrams.append(average_20p[2][1]) \n",
    "\n",
    "\n",
    "print \"f-measure averages bigrams :\\t\" , to_plot_f_bigrams"
   ]
  },
  {
   "cell_type": "code",
   "execution_count": 41,
   "metadata": {
    "collapsed": false
   },
   "outputs": [
    {
     "data": {
      "text/plain": [
       "[<matplotlib.lines.Line2D at 0x111050c10>]"
      ]
     },
     "execution_count": 41,
     "metadata": {},
     "output_type": "execute_result"
    }
   ],
   "source": [
    "plt.plot(to_plot_recall_bigrams, 'ro')"
   ]
  },
  {
   "cell_type": "code",
   "execution_count": 43,
   "metadata": {
    "collapsed": false
   },
   "outputs": [
    {
     "data": {
      "text/plain": [
       "[<matplotlib.lines.Line2D at 0x110f87290>]"
      ]
     },
     "execution_count": 43,
     "metadata": {},
     "output_type": "execute_result"
    }
   ],
   "source": [
    "plt.plot(to_plot_precision_bigrams, 'ro')"
   ]
  },
  {
   "cell_type": "code",
   "execution_count": 44,
   "metadata": {
    "collapsed": false
   },
   "outputs": [
    {
     "data": {
      "text/plain": [
       "[<matplotlib.lines.Line2D at 0x110ecc950>]"
      ]
     },
     "execution_count": 44,
     "metadata": {},
     "output_type": "execute_result"
    }
   ],
   "source": [
    "plt.plot(to_plot_f_bigrams, 'ro')"
   ]
  },
  {
   "cell_type": "code",
   "execution_count": null,
   "metadata": {
    "collapsed": true
   },
   "outputs": [],
   "source": [
    "plt.show()"
   ]
  }
 ],
 "metadata": {
  "kernelspec": {
   "display_name": "Python 2",
   "language": "python",
   "name": "python2"
  },
  "language_info": {
   "codemirror_mode": {
    "name": "ipython",
    "version": 2
   },
   "file_extension": ".py",
   "mimetype": "text/x-python",
   "name": "python",
   "nbconvert_exporter": "python",
   "pygments_lexer": "ipython2",
   "version": "2.7.11"
  }
 },
 "nbformat": 4,
 "nbformat_minor": 0
}
