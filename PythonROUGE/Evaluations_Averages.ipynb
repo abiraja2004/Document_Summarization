{
 "cells": [
  {
   "cell_type": "code",
   "execution_count": 25,
   "metadata": {
    "collapsed": true
   },
   "outputs": [],
   "source": [
    "import PythonROUGE\n",
    "import matplotlib.pyplot as plt \n",
    "import pandas as pd "
   ]
  },
  {
   "cell_type": "markdown",
   "metadata": {},
   "source": [
    "**Note:**\n",
    "These Evaluations could be better. \n",
    "Because of times constrainsts, I evaluated by system based upon 7 summarizations. \n",
    "To obtain a more accurate measurement, it would be ideal to evaluate the system on all summaries."
   ]
  },
  {
   "cell_type": "code",
   "execution_count": 2,
   "metadata": {
    "collapsed": true
   },
   "outputs": [],
   "source": [
    "#Average Evaluations for Recall Precision and F_Measure \n"
   ]
  },
  {
   "cell_type": "code",
   "execution_count": 3,
   "metadata": {
    "collapsed": true
   },
   "outputs": [],
   "source": [
    "abstract_summary_list = [['Abstracts/12585968_abstract.txt'],\n",
    "\t\t['Abstracts/15836427_abstract.txt'] , \n",
    "\t\t['Abstracts/16110338_abstract.txt','Abstracts/16110338_abstract_2.txt'],\n",
    "\t\t['Abstracts/16121255_abstract.txt','Abstracts/16121255_abstract_2.txt'], \n",
    "\t\t['Abstracts/15314659_abstract.txt','Abstracts/15314659_abstract_2.txt'],\n",
    "\t\t['Abstracts/15676071_abstract.txt'],\n",
    "\t\t['Abstracts/17194222_abstract.txt','Abstracts/17194222_abstract_2.txt']]"
   ]
  },
  {
   "cell_type": "code",
   "execution_count": 4,
   "metadata": {
    "collapsed": true
   },
   "outputs": [],
   "source": [
    "#5 percent of document "
   ]
  },
  {
   "cell_type": "code",
   "execution_count": 5,
   "metadata": {
    "collapsed": true
   },
   "outputs": [],
   "source": [
    "summary_list = ['Summaries/12585968_summary_0.05.txt',\n",
    "\t\t'Summaries/15836427_summary_0.05.txt',\n",
    "\t\t'Summaries/16110338_summary_0.05.txt',\n",
    "\t\t'Summaries/16121255_summary_0.05.txt',\n",
    "\t\t'Summaries/15314659_summary_0.05.txt',\n",
    "\t\t'Summaries/15676071_summary_0.05.txt',\n",
    "\t\t'Summaries/17194222_summary_0.05.txt'] "
   ]
  },
  {
   "cell_type": "code",
   "execution_count": 6,
   "metadata": {
    "collapsed": true
   },
   "outputs": [],
   "source": [
    "recall,precision,F_measure = PythonROUGE.PythonROUGE(summary_list,abstract_summary_list,ngram_order=2) "
   ]
  },
  {
   "cell_type": "code",
   "execution_count": 7,
   "metadata": {
    "collapsed": true
   },
   "outputs": [],
   "source": [
    "average_5p = [recall,precision,F_measure] "
   ]
  },
  {
   "cell_type": "code",
   "execution_count": 8,
   "metadata": {
    "collapsed": false
   },
   "outputs": [
    {
     "name": "stdout",
     "output_type": "stream",
     "text": [
      "average for 5% :\t[[0.42379, 0.12234], [0.20108, 0.06114], [0.26006, 0.07815]]\n"
     ]
    }
   ],
   "source": [
    "print \"average for 5% :\\t\" ,average_5p"
   ]
  },
  {
   "cell_type": "code",
   "execution_count": 21,
   "metadata": {
    "collapsed": true
   },
   "outputs": [],
   "source": [
    "#10 percent of document "
   ]
  },
  {
   "cell_type": "code",
   "execution_count": 9,
   "metadata": {
    "collapsed": true
   },
   "outputs": [],
   "source": [
    "summary_list = ['Summaries/12585968_summary_0.1.txt',\n",
    "\t\t'Summaries/15836427_summary_0.1.txt',\n",
    "\t\t'Summaries/16110338_summary_0.1.txt',\n",
    "\t\t'Summaries/16121255_summary_0.1.txt',\n",
    "\t\t'Summaries/15314659_summary_0.1.txt',\n",
    "\t\t'Summaries/15676071_summary_0.1.txt',\n",
    "\t\t'Summaries/17194222_summary_0.1.txt'] "
   ]
  },
  {
   "cell_type": "code",
   "execution_count": 10,
   "metadata": {
    "collapsed": true
   },
   "outputs": [],
   "source": [
    "recall,precision,F_measure = PythonROUGE.PythonROUGE(summary_list,abstract_summary_list,ngram_order=2) "
   ]
  },
  {
   "cell_type": "code",
   "execution_count": 11,
   "metadata": {
    "collapsed": true
   },
   "outputs": [],
   "source": [
    "\n",
    "average_10p = [recall,precision,F_measure] "
   ]
  },
  {
   "cell_type": "code",
   "execution_count": 22,
   "metadata": {
    "collapsed": true
   },
   "outputs": [],
   "source": [
    "#15 percent of document "
   ]
  },
  {
   "cell_type": "code",
   "execution_count": 12,
   "metadata": {
    "collapsed": false
   },
   "outputs": [
    {
     "name": "stdout",
     "output_type": "stream",
     "text": [
      "average for 10% :\t[[0.55382, 0.21674], [0.10628, 0.04209], [0.17347, 0.06872]]\n"
     ]
    }
   ],
   "source": [
    "print \"average for 10% :\\t\" ,average_10p "
   ]
  },
  {
   "cell_type": "code",
   "execution_count": 13,
   "metadata": {
    "collapsed": true
   },
   "outputs": [],
   "source": [
    "summary_list = ['Summaries/12585968_summary_0.15.txt',\n",
    "\t\t'Summaries/15836427_summary_0.15.txt',\n",
    "\t\t'Summaries/16110338_summary_0.15.txt',\n",
    "\t\t'Summaries/16121255_summary_0.15.txt',\n",
    "\t\t'Summaries/15314659_summary_0.15.txt',\n",
    "\t\t'Summaries/15676071_summary_0.15.txt',\n",
    "\t\t'Summaries/17194222_summary_0.15.txt'] "
   ]
  },
  {
   "cell_type": "code",
   "execution_count": 14,
   "metadata": {
    "collapsed": true
   },
   "outputs": [],
   "source": [
    "recall,precision,F_measure = PythonROUGE.PythonROUGE(summary_list,abstract_summary_list,ngram_order=2)\n",
    " "
   ]
  },
  {
   "cell_type": "code",
   "execution_count": 15,
   "metadata": {
    "collapsed": true
   },
   "outputs": [],
   "source": [
    "average_15p = [recall,precision,F_measure] "
   ]
  },
  {
   "cell_type": "code",
   "execution_count": 16,
   "metadata": {
    "collapsed": false
   },
   "outputs": [
    {
     "name": "stdout",
     "output_type": "stream",
     "text": [
      "average for 15% :\t[[0.62776, 0.2883], [0.06282, 0.03018], [0.11241, 0.05384]]\n"
     ]
    }
   ],
   "source": [
    "print \"average for 15% :\\t\" , average_15p "
   ]
  },
  {
   "cell_type": "code",
   "execution_count": 23,
   "metadata": {
    "collapsed": true
   },
   "outputs": [],
   "source": [
    "#20 percent of document "
   ]
  },
  {
   "cell_type": "code",
   "execution_count": 17,
   "metadata": {
    "collapsed": true
   },
   "outputs": [],
   "source": [
    "summary_list = ['Summaries/12585968_summary_0.2.txt',\n",
    "\t\t'Summaries/15836427_summary_0.2.txt',\n",
    "\t\t'Summaries/16110338_summary_0.2.txt',\n",
    "\t\t'Summaries/16121255_summary_0.2.txt',\n",
    "\t\t'Summaries/15314659_summary_0.2.txt',\n",
    "\t\t'Summaries/15676071_summary_0.2.txt',\n",
    "\t\t'Summaries/17194222_summary_0.2.txt'] "
   ]
  },
  {
   "cell_type": "code",
   "execution_count": 18,
   "metadata": {
    "collapsed": true
   },
   "outputs": [],
   "source": [
    "recall,precision,F_measure = PythonROUGE.PythonROUGE(summary_list,abstract_summary_list,ngram_order=2) "
   ]
  },
  {
   "cell_type": "code",
   "execution_count": 19,
   "metadata": {
    "collapsed": true
   },
   "outputs": [],
   "source": [
    "average_20p = [recall,precision,F_measure] "
   ]
  },
  {
   "cell_type": "code",
   "execution_count": 20,
   "metadata": {
    "collapsed": false
   },
   "outputs": [
    {
     "name": "stdout",
     "output_type": "stream",
     "text": [
      "average for 20% :\t[[0.67653, 0.35656], [0.04036, 0.02144], [0.07544, 0.04007]]\n"
     ]
    }
   ],
   "source": [
    "\n",
    "print \"average for 20% :\\t\" , average_20p "
   ]
  },
  {
   "cell_type": "code",
   "execution_count": 26,
   "metadata": {
    "collapsed": true
   },
   "outputs": [],
   "source": [
    "#if you want to obtain the unigram values, pass in 0 as second parameter \n",
    "def uni_or_bi(_list,number):\n",
    "    measures = [] \n",
    "    if number == 0:\n",
    "        for item in _list: \n",
    "            measures.append(item[0])  \n",
    "    else:\n",
    "        for item in _list:\n",
    "            measures.append(item[1])\n",
    "    return measures \n"
   ]
  },
  {
   "cell_type": "code",
   "execution_count": 43,
   "metadata": {
    "collapsed": false
   },
   "outputs": [
    {
     "name": "stdout",
     "output_type": "stream",
     "text": [
      "{'5%': [0.12234, 0.06114, 0.07815], '20%': [0.35656, 0.02144, 0.04007], '15%': [0.2883, 0.03018, 0.05384], '10%': [0.21674, 0.04209, 0.06872]}\n"
     ]
    }
   ],
   "source": [
    "bigram_dic = {} \n",
    "bigram_dic[\"5%\"] = uni_or_bi(average_5p,1) \n",
    "bigram_dic[\"10%\"] = uni_or_bi(average_10p,1) \n",
    "bigram_dic[\"15%\"] = uni_or_bi(average_15p,1) \n",
    "bigram_dic[\"20%\"] = uni_or_bi(average_20p,1) \n",
    "\n",
    "print bigram_dic \n"
   ]
  },
  {
   "cell_type": "code",
   "execution_count": 84,
   "metadata": {
    "collapsed": false
   },
   "outputs": [
    {
     "name": "stdout",
     "output_type": "stream",
     "text": [
      "{'5%': [0.42379, 0.20108, 0.26006], '20%': [0.67653, 0.04036, 0.07544], '15%': [0.62776, 0.06282, 0.11241], '10%': [0.55382, 0.10628, 0.17347]}\n"
     ]
    }
   ],
   "source": [
    "unigram_dic = {} \n",
    "unigram_dic[\"5%\"] = uni_or_bi(average_5p,0) \n",
    "unigram_dic[\"10%\"] = uni_or_bi(average_10p,0) \n",
    "unigram_dic[\"15%\"] = uni_or_bi(average_15p,0) \n",
    "unigram_dic[\"20%\"] = uni_or_bi(average_20p,0) \n",
    "\n",
    "print unigram_dic \n",
    "\n"
   ]
  },
  {
   "cell_type": "code",
   "execution_count": 70,
   "metadata": {
    "collapsed": true
   },
   "outputs": [],
   "source": [
    "#use pandas to generate tables \n"
   ]
  },
  {
   "cell_type": "code",
   "execution_count": 71,
   "metadata": {
    "collapsed": false
   },
   "outputs": [],
   "source": [
    "#Bigram Rouge-2 "
   ]
  },
  {
   "cell_type": "code",
   "execution_count": 72,
   "metadata": {
    "collapsed": false
   },
   "outputs": [],
   "source": [
    "\n",
    "\n",
    "df = pd.DataFrame(bigram_dic, columns = ['5%', '10%', '15%', '20%'],index = [\"recall\" , \"precision\", \"f_measure\"])"
   ]
  },
  {
   "cell_type": "code",
   "execution_count": 73,
   "metadata": {
    "collapsed": false
   },
   "outputs": [
    {
     "data": {
      "text/html": [
       "<div>\n",
       "<table border=\"1\" class=\"dataframe\">\n",
       "  <thead>\n",
       "    <tr style=\"text-align: right;\">\n",
       "      <th></th>\n",
       "      <th>recall</th>\n",
       "      <th>precision</th>\n",
       "      <th>f_measure</th>\n",
       "    </tr>\n",
       "  </thead>\n",
       "  <tbody>\n",
       "    <tr>\n",
       "      <th>5%</th>\n",
       "      <td>0.12234</td>\n",
       "      <td>0.06114</td>\n",
       "      <td>0.07815</td>\n",
       "    </tr>\n",
       "    <tr>\n",
       "      <th>10%</th>\n",
       "      <td>0.21674</td>\n",
       "      <td>0.04209</td>\n",
       "      <td>0.06872</td>\n",
       "    </tr>\n",
       "    <tr>\n",
       "      <th>15%</th>\n",
       "      <td>0.28830</td>\n",
       "      <td>0.03018</td>\n",
       "      <td>0.05384</td>\n",
       "    </tr>\n",
       "    <tr>\n",
       "      <th>20%</th>\n",
       "      <td>0.35656</td>\n",
       "      <td>0.02144</td>\n",
       "      <td>0.04007</td>\n",
       "    </tr>\n",
       "  </tbody>\n",
       "</table>\n",
       "</div>"
      ],
      "text/plain": [
       "      recall  precision  f_measure\n",
       "5%   0.12234    0.06114    0.07815\n",
       "10%  0.21674    0.04209    0.06872\n",
       "15%  0.28830    0.03018    0.05384\n",
       "20%  0.35656    0.02144    0.04007"
      ]
     },
     "execution_count": 73,
     "metadata": {},
     "output_type": "execute_result"
    }
   ],
   "source": [
    "df.transpose()"
   ]
  },
  {
   "cell_type": "code",
   "execution_count": 74,
   "metadata": {
    "collapsed": true
   },
   "outputs": [],
   "source": [
    "#Unigram Rouge-1 "
   ]
  },
  {
   "cell_type": "code",
   "execution_count": 85,
   "metadata": {
    "collapsed": true
   },
   "outputs": [],
   "source": [
    "df2 = pd.DataFrame(unigram_dic, columns = ['5%', '10%', '15%', '20%'],index = [\"recall\" , \"precision\", \"f_measure\"])"
   ]
  },
  {
   "cell_type": "code",
   "execution_count": 86,
   "metadata": {
    "collapsed": false
   },
   "outputs": [
    {
     "data": {
      "text/html": [
       "<div>\n",
       "<table border=\"1\" class=\"dataframe\">\n",
       "  <thead>\n",
       "    <tr style=\"text-align: right;\">\n",
       "      <th></th>\n",
       "      <th>recall</th>\n",
       "      <th>precision</th>\n",
       "      <th>f_measure</th>\n",
       "    </tr>\n",
       "  </thead>\n",
       "  <tbody>\n",
       "    <tr>\n",
       "      <th>5%</th>\n",
       "      <td>0.42379</td>\n",
       "      <td>0.20108</td>\n",
       "      <td>0.26006</td>\n",
       "    </tr>\n",
       "    <tr>\n",
       "      <th>10%</th>\n",
       "      <td>0.55382</td>\n",
       "      <td>0.10628</td>\n",
       "      <td>0.17347</td>\n",
       "    </tr>\n",
       "    <tr>\n",
       "      <th>15%</th>\n",
       "      <td>0.62776</td>\n",
       "      <td>0.06282</td>\n",
       "      <td>0.11241</td>\n",
       "    </tr>\n",
       "    <tr>\n",
       "      <th>20%</th>\n",
       "      <td>0.67653</td>\n",
       "      <td>0.04036</td>\n",
       "      <td>0.07544</td>\n",
       "    </tr>\n",
       "  </tbody>\n",
       "</table>\n",
       "</div>"
      ],
      "text/plain": [
       "      recall  precision  f_measure\n",
       "5%   0.42379    0.20108    0.26006\n",
       "10%  0.55382    0.10628    0.17347\n",
       "15%  0.62776    0.06282    0.11241\n",
       "20%  0.67653    0.04036    0.07544"
      ]
     },
     "execution_count": 86,
     "metadata": {},
     "output_type": "execute_result"
    }
   ],
   "source": [
    "df2.transpose()"
   ]
  },
  {
   "cell_type": "code",
   "execution_count": 87,
   "metadata": {
    "collapsed": false
   },
   "outputs": [
    {
     "name": "stdout",
     "output_type": "stream",
     "text": [
      "{'5%': [0.42379, 0.20108, 0.26006], '20%': [0.67653, 0.04036, 0.07544], '15%': [0.62776, 0.06282, 0.11241], '10%': [0.55382, 0.10628, 0.17347]}\n"
     ]
    }
   ],
   "source": [
    "print unigram_dic"
   ]
  },
  {
   "cell_type": "code",
   "execution_count": null,
   "metadata": {
    "collapsed": true
   },
   "outputs": [],
   "source": []
  }
 ],
 "metadata": {
  "kernelspec": {
   "display_name": "Python 2",
   "language": "python",
   "name": "python2"
  },
  "language_info": {
   "codemirror_mode": {
    "name": "ipython",
    "version": 2
   },
   "file_extension": ".py",
   "mimetype": "text/x-python",
   "name": "python",
   "nbconvert_exporter": "python",
   "pygments_lexer": "ipython2",
   "version": "2.7.11"
  }
 },
 "nbformat": 4,
 "nbformat_minor": 0
}
